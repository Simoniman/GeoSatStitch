{
 "cells": [
  {
   "cell_type": "markdown",
   "metadata": {},
   "source": [
    "##### Installing Required Libraries : "
   ]
  },
  {
   "cell_type": "markdown",
   "metadata": {},
   "source": [
    "Satpy library will be installed. Satpy is a python library that can be used to work with various earth-observing satellite instrument data and was created by the Pytroll open source software group.\n",
    "\n",
    "The high level functionality of Satpy related to geo stationary satellite data stitching project includes:\n",
    "\n",
    "- reading data files\n",
    "- compositing data products together (ex. RGB images)\n",
    "- resampling data to new geographic projections\n",
    "- writing data to on-disk formats\n",
    "- using the data with other python-based visualization tools"
   ]
  },
  {
   "cell_type": "code",
   "execution_count": null,
   "metadata": {},
   "outputs": [],
   "source": [
    "# ! conda install -c conda-forge satpy # you can also use pip, but install rasterio seperatly in that way. \n",
    "# ! pip install patool\n",
    "# ! pip install matplotlib\n",
    "# ! conda install cartopy # For window os it is highly recommended use conda to install cartopy. for linux it is possible and to install cartopy using pip."
   ]
  },
  {
   "cell_type": "markdown",
   "metadata": {},
   "source": [
    "##### Importing Required Libraries"
   ]
  },
  {
   "cell_type": "code",
   "execution_count": 2,
   "metadata": {},
   "outputs": [],
   "source": [
    "from glob import glob\n",
    "import os\n",
    "from satpy import Scene\n",
    "from pyresample import create_area_def\n",
    "from utils import find_format, find_reader, geo_area_def\n",
    "import matplotlib.pyplot as plt\n",
    "import cartopy.crs as ccrs"
   ]
  },
  {
   "cell_type": "markdown",
   "metadata": {},
   "source": [
    "##### Reading Data"
   ]
  },
  {
   "cell_type": "markdown",
   "metadata": {},
   "source": [
    "Satpy's main interface for working with data is the `Scene` class. We can provide the `Scene` with data files and load them with a \"reader\". "
   ]
  },
  {
   "cell_type": "markdown",
   "metadata": {},
   "source": [
    "There are many readers available in Satpy, but the three readers related to this project are as below :"
   ]
  },
  {
   "cell_type": "markdown",
   "metadata": {},
   "source": [
    "| Reader      | Description |\n",
    "|:-----------:|:-----------:|\n",
    "| `'abi_l1b'`              |  reads individual GOES ABI L1B NetCDF4 files. The files read by this reader are described in the [official PUG document](https://www.goes-r.gov/users/docs/PUG-L1b-vol3.pdf)|\n",
    "| `'seviri_l1b_native'`    |  reads and calibrates MSG-SEVIRI L1.5 image data in binary format. The format is explained in the [MSG Level 1.5 Native Format File Definition.](https://www-cdn.eumetsat.int/files/2020-04/pdf_fg15_msg-native-format-15.pdf)|\n",
    "|   `'ahi_hsd'`            |  reads Advanced Himawari Imager (AHI) Binary data (standard format data)       |"
   ]
  },
  {
   "cell_type": "markdown",
   "metadata": {},
   "source": [
    "`TO_DO` : Write a utility function which finds the directory of latest downloaded files"
   ]
  },
  {
   "cell_type": "code",
   "execution_count": 17,
   "metadata": {},
   "outputs": [],
   "source": [
    "# base_dir = './Goes_abi/tmp/GOES-18/ABI-L1b-RadF/2024/063/13'# Goes-18\n",
    "base_dir = './Goes_abi/tmp/GOES-16/ABI-L1b-RadF/2024/063/13'# Goes-16\n",
    "# base_dir = './Meteosat_seviri/tmp'# Meteosat\n",
    "# base_dir = './Himawari_ahi/tmp/HIMAWARI-9/AHI-L1b-FLDK/2024/03/03/1340'# Himawari\n",
    "base_dir = './ignore/IR_stitch/him'\n",
    "\n",
    "filenames_format = find_format(base_dir)\n",
    "\n",
    "reader=find_reader(filenames_format)\n",
    "filenames = glob( base_dir + f'/*.{filenames_format}')\n",
    "\n",
    "scn = Scene(reader=reader, filenames=filenames)"
   ]
  },
  {
   "cell_type": "markdown",
   "metadata": {},
   "source": [
    "We've now created a `Scene` object. Under the hood Satpy has determined what we can access. We haven't actually loaded any data so our dict-like `Scene` object is empty. In other words we first load/read metadata by creating `Scene` object. "
   ]
  },
  {
   "cell_type": "code",
   "execution_count": 18,
   "metadata": {},
   "outputs": [
    {
     "data": {
      "text/plain": [
       "['B13']"
      ]
     },
     "execution_count": 18,
     "metadata": {},
     "output_type": "execute_result"
    }
   ],
   "source": [
    "scn.available_dataset_names()"
   ]
  },
  {
   "cell_type": "markdown",
   "metadata": {},
   "source": [
    "Then we will read/load all or subset of available dataset. "
   ]
  },
  {
   "cell_type": "code",
   "execution_count": 19,
   "metadata": {},
   "outputs": [],
   "source": [
    "channels = scn.available_dataset_names()\n",
    "scn.load(channels)"
   ]
  },
  {
   "cell_type": "markdown",
   "metadata": {},
   "source": [
    "Now we loaded some dataset and consequently are able to access those."
   ]
  },
  {
   "cell_type": "code",
   "execution_count": 20,
   "metadata": {},
   "outputs": [],
   "source": [
    "# scn['IR_108']\n",
    "# scn['C13']\n",
    "# scn['B13']"
   ]
  },
  {
   "cell_type": "markdown",
   "metadata": {},
   "source": [
    "##### Resampling Data"
   ]
  },
  {
   "cell_type": "markdown",
   "metadata": {},
   "source": [
    "One of the more complex topics when it comes to working with earth-observing satellite data is geographic projections and resampling data to these different projections."
   ]
  },
  {
   "cell_type": "markdown",
   "metadata": {},
   "source": [
    "The `'area'` attribute of our Satpy data is a special `AreaDefinition` and it defines the geographic area that our data covers. Under `Projection` we see a python dictionary of projection parameters to define that flat plane representation of the Earth. Our ABI data is on a `'geos'` or Geostationary Satellite View coordinate system where position is measured in meters on the the X and Y axes. You can learn more about that on the PROJ site [here](https://proj.org/operations/projections/geos.html).\n",
    "\n",
    "In the current project we need to have the data in `'web mercator'` projection system(EPSG:3857).\n",
    "So we need to resample the data to this system.  "
   ]
  },
  {
   "cell_type": "markdown",
   "metadata": {},
   "source": [
    "We can do this using Satpy's `Scene.resample` method which provides multiple algorithms for resampling data.\n",
    "\n",
    "- `'native'` resampler can be very useful when you need to combine bands from the same instrument that have different resolutions.\n",
    "\n",
    "- Other resamplers (`nearest` and so on) are used to change the projection of the dataset. for this case, we should determine the geographic area of interest using a `AreaDefenition` object. this object is created more easily using Pyresample's `create_area_def` utility function."
   ]
  },
  {
   "cell_type": "markdown",
   "metadata": {},
   "source": [
    "Pysat utilizes Pyresample, a Python package designed for resampling geospatial image data, for the purpose of resampling operations."
   ]
  },
  {
   "cell_type": "markdown",
   "metadata": {},
   "source": [
    "Next we will create `AreaDefenition` object for Goes_East and Goes_West satellites using create_area_def utility function. "
   ]
  },
  {
   "cell_type": "code",
   "execution_count": 21,
   "metadata": {},
   "outputs": [
    {
     "name": "stderr",
     "output_type": "stream",
     "text": [
      "WARNING:root:shape found from radius and resolution does not contain only integers: (12515.6, 8349.0)\n",
      "Rounding shape to (12516, 8349) and resolution from (2000.0, 2000.0) meters to (2000.0, 1999.9360818152763) meters\n",
      "WARNING:root:shape found from radius and resolution does not contain only integers: (12515.6, 8349.0)\n",
      "Rounding shape to (12516, 8349) and resolution from (2000.0, 2000.0) meters to (2000.0, 1999.9360818152763) meters\n",
      "WARNING:root:shape found from radius and resolution does not contain only integers: (12515.6, 8350.0)\n",
      "Rounding shape to (12516, 8350) and resolution from (2000.0, 2000.0) meters to (2000.0, 1999.9360818152763) meters\n",
      "WARNING:root:shape found from radius and resolution does not contain only integers: (12515.6, 8350.0)\n",
      "Rounding shape to (12516, 8350) and resolution from (2000.0, 2000.0) meters to (2000.0, 1999.9360818152763) meters\n",
      "WARNING:root:shape found from radius and resolution does not contain only integers: (12515.6, 8350.0)\n",
      "Rounding shape to (12516, 8350) and resolution from (2000.0, 2000.0) meters to (2000.0, 1999.9360818152763) meters\n"
     ]
    }
   ],
   "source": [
    "geo_area_defenition = geo_area_def(scene=scn)"
   ]
  },
  {
   "cell_type": "markdown",
   "metadata": {},
   "source": [
    "Then we will resample the data using created `AreaDefenition` object. "
   ]
  },
  {
   "cell_type": "code",
   "execution_count": 15,
   "metadata": {},
   "outputs": [
    {
     "name": "stdout",
     "output_type": "stream",
     "text": [
      "radius_of_influence : 50000\n"
     ]
    }
   ],
   "source": [
    "scn_resamp = scn.resample(destination=geo_area_defenition, radius_of_influence=50000)"
   ]
  },
  {
   "cell_type": "markdown",
   "metadata": {},
   "source": [
    "##### Writing Data"
   ]
  },
  {
   "cell_type": "markdown",
   "metadata": {},
   "source": [
    "Satpy makes it possible to save datasets in multiple formats, with `writers` designed to save in a given format.The default `writer` is geotiff writer."
   ]
  },
  {
   "cell_type": "code",
   "execution_count": 16,
   "metadata": {},
   "outputs": [
    {
     "name": "stderr",
     "output_type": "stream",
     "text": [
      "c:\\Users\\Sadra\\miniconda3\\envs\\geosat_down\\lib\\site-packages\\dask\\core.py:119: RuntimeWarning: invalid value encountered in cos\n",
      "  return func(*(_execute_task(a, cache) for a in args))\n",
      "c:\\Users\\Sadra\\miniconda3\\envs\\geosat_down\\lib\\site-packages\\dask\\core.py:119: RuntimeWarning: invalid value encountered in sin\n",
      "  return func(*(_execute_task(a, cache) for a in args))\n",
      "c:\\Users\\Sadra\\miniconda3\\envs\\geosat_down\\lib\\site-packages\\dask\\core.py:119: RuntimeWarning: invalid value encountered in cos\n",
      "  return func(*(_execute_task(a, cache) for a in args))\n",
      "c:\\Users\\Sadra\\miniconda3\\envs\\geosat_down\\lib\\site-packages\\dask\\core.py:119: RuntimeWarning: invalid value encountered in sin\n",
      "  return func(*(_execute_task(a, cache) for a in args))\n",
      "c:\\Users\\Sadra\\miniconda3\\envs\\geosat_down\\lib\\site-packages\\dask\\core.py:119: RuntimeWarning: invalid value encountered in cos\n",
      "  return func(*(_execute_task(a, cache) for a in args))\n",
      "c:\\Users\\Sadra\\miniconda3\\envs\\geosat_down\\lib\\site-packages\\dask\\core.py:119: RuntimeWarning: invalid value encountered in sin\n",
      "  return func(*(_execute_task(a, cache) for a in args))\n",
      "c:\\Users\\Sadra\\miniconda3\\envs\\geosat_down\\lib\\site-packages\\dask\\array\\chunk.py:276: RuntimeWarning: invalid value encountered in cast\n",
      "  return x.astype(astype_dtype, **kwargs)\n"
     ]
    }
   ],
   "source": [
    "scn_resamp.save_datasets(\n",
    "    writer=\"geotiff\",\n",
    "    filename=\"{platform_name}_{name}_{start_time:%Y%m%d_%H%M%S}.tif\",\n",
    "    base_dir=base_dir)"
   ]
  },
  {
   "cell_type": "markdown",
   "metadata": {},
   "source": [
    "##### Visualizing Data"
   ]
  },
  {
   "cell_type": "markdown",
   "metadata": {},
   "source": [
    "Although data can be visualized in specialized GIS software after exporting the data in well-known geospatial raster formats like GeoTIFF, being able to visualize data directly in Python can be really beneficial in some cases. Just take note for visualization there is no need to even resample the data. We can directly visualize after reading or loading data. "
   ]
  },
  {
   "cell_type": "code",
   "execution_count": null,
   "metadata": {},
   "outputs": [],
   "source": [
    "channel = 'C13'\n",
    "crs = scn[channel].attrs['area'].to_cartopy_crs()\n",
    "plt.figure(figsize=(16,10))\n",
    "ax = plt.axes(projection=ccrs.PlateCarree())\n",
    "\n",
    "cmap = 'Greys'  # Example colormap without transparency\n",
    "\n",
    "dataset = scn[channel]\n",
    "dataset.plot.imshow(transform=crs, cmap=cmap)\n",
    "ax.coastlines()\n",
    "ax.gridlines(draw_labels=True, linewidth=1, color='gray', alpha=0.5, linestyle='--')\n",
    "plt.title(f\"platform_name : {scn[channel].attrs['platform_name']}  \\n channel : {scn[channel].attrs['name']}  \\n start_time : {scn[channel].attrs['start_time']}  \\n end_time : {scn[channel].attrs['end_time']} \")"
   ]
  }
 ],
 "metadata": {
  "kernelspec": {
   "display_name": "geosat_down",
   "language": "python",
   "name": "python3"
  },
  "language_info": {
   "codemirror_mode": {
    "name": "ipython",
    "version": 3
   },
   "file_extension": ".py",
   "mimetype": "text/x-python",
   "name": "python",
   "nbconvert_exporter": "python",
   "pygments_lexer": "ipython3",
   "version": "3.8.18"
  }
 },
 "nbformat": 4,
 "nbformat_minor": 2
}
