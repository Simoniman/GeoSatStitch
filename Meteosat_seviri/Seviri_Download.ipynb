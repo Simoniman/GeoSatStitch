{
 "cells": [
  {
   "cell_type": "markdown",
   "metadata": {},
   "source": [
    "##### Installing Required Libraries : "
   ]
  },
  {
   "cell_type": "markdown",
   "metadata": {},
   "source": [
    "EUMDAC library will be installed. EUMDAC is the EUMETSAT Data Access Client. It provides simple access to the EUMETSAT data of all satellite missions. As a Python library, it comes with many methods and helpers to use EUMETSATs APIs and services, like Data Store. "
   ]
  },
  {
   "cell_type": "code",
   "execution_count": 1,
   "metadata": {},
   "outputs": [],
   "source": [
    "# ! pip install eumdac\n",
    "# ! pip install requests\n",
    "# ! pip install patool"
   ]
  },
  {
   "cell_type": "markdown",
   "metadata": {},
   "source": [
    "##### Importing Required Libraries"
   ]
  },
  {
   "cell_type": "code",
   "execution_count": 2,
   "metadata": {},
   "outputs": [],
   "source": [
    "import os\n",
    "import time\n",
    "import datetime\n",
    "import shutil\n",
    "import requests\n",
    "import eumdac\n",
    "import patoolib\n",
    "import json"
   ]
  },
  {
   "cell_type": "markdown",
   "metadata": {},
   "source": [
    "for importing utils in the parent directory we add that to the python path as below"
   ]
  },
  {
   "cell_type": "code",
   "execution_count": 3,
   "metadata": {},
   "outputs": [],
   "source": [
    "import sys\n",
    "\n",
    "# Get the parent directory of the current script\n",
    "parent_dir = os.path.dirname(os.path.abspath('Seviri_Download.ipynb'))\n",
    "parent_dir = os.path.abspath(os.path.join(parent_dir, \"..\"))  # Go up one level\n",
    "\n",
    "# Add the parent directory to the Python path\n",
    "sys.path.append(parent_dir)\n",
    "\n",
    "from utils import extract_zip_files, read_credentials_from_config"
   ]
  },
  {
   "cell_type": "markdown",
   "metadata": {},
   "source": [
    "##### Downloading latest files"
   ]
  },
  {
   "cell_type": "markdown",
   "metadata": {},
   "source": [
    "Insert your personal key and secret into the single quotes. https://eoportal.eumetsat.int/"
   ]
  },
  {
   "cell_type": "code",
   "execution_count": 4,
   "metadata": {},
   "outputs": [
    {
     "name": "stdout",
     "output_type": "stream",
     "text": [
      "Error: Failed to parse JSON in configuration file \"../config.json\".\n"
     ]
    }
   ],
   "source": [
    "consumer_key, consumer_secret = read_credentials_from_config(filename='../config.json')\n",
    "\n",
    "\n",
    "\n",
    "credentials = (consumer_key, consumer_secret)\n",
    "\n",
    "token = eumdac.AccessToken(credentials)"
   ]
  },
  {
   "cell_type": "markdown",
   "metadata": {},
   "source": [
    "1-Discovering **Collections**"
   ]
  },
  {
   "cell_type": "markdown",
   "metadata": {},
   "source": [
    "collection identifier - collection title\n",
    "  - EO:EUM:DAT:MSG:HRSEVIRI - High Rate SEVIRI Level 1.5 Image Data - MSG - 0 degree \n",
    "  - EO:EUM:DAT:MSG:HRSEVIRI-IODC - High Rate SEVIRI Level 1.5 Image Data - MSG - Indian Ocean\n"
   ]
  },
  {
   "cell_type": "code",
   "execution_count": 5,
   "metadata": {},
   "outputs": [],
   "source": [
    "seviri_pdcid = \"EO:EUM:DAT:MSG:HRSEVIRI\" # prime data collection id\n",
    "seviri_iodcid = \"EO:EUM:DAT:MSG:HRSEVIRI-IODC\" # indian ocean data collection id"
   ]
  },
  {
   "cell_type": "markdown",
   "metadata": {},
   "source": [
    "Data Collections based on collection identifiers"
   ]
  },
  {
   "cell_type": "code",
   "execution_count": 6,
   "metadata": {},
   "outputs": [],
   "source": [
    "datastore = eumdac.DataStore(token)\n",
    "seviri_pdc = datastore.get_collection(seviri_pdcid) # prime data collection\n",
    "seviri_iodc = datastore.get_collection(seviri_iodcid) # indian ocean data collection"
   ]
  },
  {
   "cell_type": "markdown",
   "metadata": {},
   "source": [
    "2-Searching and Filtering to find required **Products**/**Datasets**"
   ]
  },
  {
   "cell_type": "markdown",
   "metadata": {},
   "source": [
    "Filtering by latest product"
   ]
  },
  {
   "cell_type": "code",
   "execution_count": 7,
   "metadata": {},
   "outputs": [
    {
     "ename": "HTTPError",
     "evalue": "401 Client Error:  for url: https://api.eumetsat.int/token",
     "output_type": "error",
     "traceback": [
      "\u001b[1;31m---------------------------------------------------------------------------\u001b[0m",
      "\u001b[1;31mHTTPError\u001b[0m                                 Traceback (most recent call last)",
      "Cell \u001b[1;32mIn[7], line 1\u001b[0m\n\u001b[1;32m----> 1\u001b[0m seviri_pp_latest \u001b[38;5;241m=\u001b[39m \u001b[43mseviri_pdc\u001b[49m\u001b[38;5;241;43m.\u001b[39;49m\u001b[43msearch\u001b[49m\u001b[43m(\u001b[49m\u001b[43m)\u001b[49m\u001b[38;5;241m.\u001b[39mfirst() \u001b[38;5;66;03m# prime product_latest\u001b[39;00m\n\u001b[0;32m      2\u001b[0m seviri_iop_latest \u001b[38;5;241m=\u001b[39m seviri_iodc\u001b[38;5;241m.\u001b[39msearch()\u001b[38;5;241m.\u001b[39mfirst() \u001b[38;5;66;03m# indian ocean product_latest\u001b[39;00m\n\u001b[0;32m      3\u001b[0m products \u001b[38;5;241m=\u001b[39m [seviri_pp_latest, seviri_iop_latest]\n",
      "File \u001b[1;32mc:\\Users\\Sadra\\miniconda3\\envs\\geosat_down\\lib\\site-packages\\eumdac\\collection.py:262\u001b[0m, in \u001b[0;36mCollection.search\u001b[1;34m(self, **query)\u001b[0m\n\u001b[0;32m    252\u001b[0m \u001b[38;5;28;01mdef\u001b[39;00m \u001b[38;5;21msearch\u001b[39m(\u001b[38;5;28mself\u001b[39m, \u001b[38;5;241m*\u001b[39m\u001b[38;5;241m*\u001b[39mquery: Any) \u001b[38;5;241m-\u001b[39m\u001b[38;5;241m>\u001b[39m SearchResults:\n\u001b[0;32m    253\u001b[0m \u001b[38;5;250m    \u001b[39m\u001b[38;5;124;03m\"\"\"Product search inside the collection\u001b[39;00m\n\u001b[0;32m    254\u001b[0m \n\u001b[0;32m    255\u001b[0m \u001b[38;5;124;03m    Arguments:\u001b[39;00m\n\u001b[1;32m   (...)\u001b[0m\n\u001b[0;32m    260\u001b[0m \u001b[38;5;124;03m        they can be listed with the property search_options\u001b[39;00m\n\u001b[0;32m    261\u001b[0m \u001b[38;5;124;03m    \"\"\"\u001b[39;00m\n\u001b[1;32m--> 262\u001b[0m     \u001b[38;5;28;01mreturn\u001b[39;00m \u001b[43mSearchResults\u001b[49m\u001b[43m(\u001b[49m\u001b[38;5;28;43mself\u001b[39;49m\u001b[43m,\u001b[49m\u001b[43m \u001b[49m\u001b[43mquery\u001b[49m\u001b[43m)\u001b[49m\n",
      "File \u001b[1;32mc:\\Users\\Sadra\\miniconda3\\envs\\geosat_down\\lib\\site-packages\\eumdac\\collection.py:37\u001b[0m, in \u001b[0;36mSearchResults.__init__\u001b[1;34m(self, collection, query)\u001b[0m\n\u001b[0;32m     35\u001b[0m \u001b[38;5;28;01mdef\u001b[39;00m \u001b[38;5;21m__init__\u001b[39m(\u001b[38;5;28mself\u001b[39m, collection: Collection, query: Mapping[\u001b[38;5;28mstr\u001b[39m, Any]) \u001b[38;5;241m-\u001b[39m\u001b[38;5;241m>\u001b[39m \u001b[38;5;28;01mNone\u001b[39;00m:\n\u001b[0;32m     36\u001b[0m     \u001b[38;5;28mself\u001b[39m\u001b[38;5;241m.\u001b[39mcollection \u001b[38;5;241m=\u001b[39m collection\n\u001b[1;32m---> 37\u001b[0m     \u001b[38;5;28;43mself\u001b[39;49m\u001b[38;5;241;43m.\u001b[39;49m\u001b[43mquery\u001b[49m \u001b[38;5;241m=\u001b[39m query\n",
      "File \u001b[1;32mc:\\Users\\Sadra\\miniconda3\\envs\\geosat_down\\lib\\site-packages\\eumdac\\collection.py:78\u001b[0m, in \u001b[0;36mSearchResults.query\u001b[1;34m(self, query)\u001b[0m\n\u001b[0;32m     76\u001b[0m \u001b[38;5;129m@query\u001b[39m\u001b[38;5;241m.\u001b[39msetter\n\u001b[0;32m     77\u001b[0m \u001b[38;5;28;01mdef\u001b[39;00m \u001b[38;5;21mquery\u001b[39m(\u001b[38;5;28mself\u001b[39m, query: Mapping[\u001b[38;5;28mstr\u001b[39m, Any]) \u001b[38;5;241m-\u001b[39m\u001b[38;5;241m>\u001b[39m \u001b[38;5;28;01mNone\u001b[39;00m:\n\u001b[1;32m---> 78\u001b[0m     valid_keys \u001b[38;5;241m=\u001b[39m \u001b[38;5;28mset\u001b[39m(\u001b[38;5;28;43mself\u001b[39;49m\u001b[38;5;241;43m.\u001b[39;49m\u001b[43mcollection\u001b[49m\u001b[38;5;241;43m.\u001b[39;49m\u001b[43msearch_options\u001b[49m)\n\u001b[0;32m     79\u001b[0m     new_keys \u001b[38;5;241m=\u001b[39m \u001b[38;5;28mset\u001b[39m(query)\n\u001b[0;32m     80\u001b[0m     diff \u001b[38;5;241m=\u001b[39m new_keys\u001b[38;5;241m.\u001b[39mdifference(valid_keys)\n",
      "File \u001b[1;32mc:\\Users\\Sadra\\miniconda3\\envs\\geosat_down\\lib\\site-packages\\eumdac\\collection.py:272\u001b[0m, in \u001b[0;36mCollection.search_options\u001b[1;34m(self)\u001b[0m\n\u001b[0;32m    270\u001b[0m url_static \u001b[38;5;241m=\u001b[39m \u001b[38;5;28mself\u001b[39m\u001b[38;5;241m.\u001b[39mdatastore\u001b[38;5;241m.\u001b[39murls\u001b[38;5;241m.\u001b[39mget(\u001b[38;5;124m\"\u001b[39m\u001b[38;5;124mdatastore\u001b[39m\u001b[38;5;124m\"\u001b[39m, \u001b[38;5;124m\"\u001b[39m\u001b[38;5;124msearch options\u001b[39m\u001b[38;5;124m\"\u001b[39m)\n\u001b[0;32m    271\u001b[0m url \u001b[38;5;241m=\u001b[39m url_static \u001b[38;5;241m+\u001b[39m \u001b[38;5;124m\"\u001b[39m\u001b[38;5;124m?pi=\u001b[39m\u001b[38;5;124m\"\u001b[39m \u001b[38;5;241m+\u001b[39m \u001b[38;5;28mself\u001b[39m\u001b[38;5;241m.\u001b[39m_id\n\u001b[1;32m--> 272\u001b[0m auth \u001b[38;5;241m=\u001b[39m \u001b[38;5;28;43mself\u001b[39;49m\u001b[38;5;241;43m.\u001b[39;49m\u001b[43mdatastore\u001b[49m\u001b[38;5;241;43m.\u001b[39;49m\u001b[43mtoken\u001b[49m\u001b[38;5;241;43m.\u001b[39;49m\u001b[43mauth\u001b[49m\n\u001b[0;32m    273\u001b[0m response \u001b[38;5;241m=\u001b[39m get(\n\u001b[0;32m    274\u001b[0m     url,\n\u001b[0;32m    275\u001b[0m     auth\u001b[38;5;241m=\u001b[39mauth,\n\u001b[0;32m    276\u001b[0m     headers\u001b[38;5;241m=\u001b[39meumdac\u001b[38;5;241m.\u001b[39mcommon\u001b[38;5;241m.\u001b[39mheaders,\n\u001b[0;32m    277\u001b[0m )\n\u001b[0;32m    278\u001b[0m eumdac_raise_for_status(\n\u001b[0;32m    279\u001b[0m     \u001b[38;5;124mf\u001b[39m\u001b[38;5;124m\"\u001b[39m\u001b[38;5;124mCould not get search options for \u001b[39m\u001b[38;5;132;01m{\u001b[39;00m\u001b[38;5;28mself\u001b[39m\u001b[38;5;241m.\u001b[39m_id\u001b[38;5;132;01m}\u001b[39;00m\u001b[38;5;124m\"\u001b[39m, response, CollectionError\n\u001b[0;32m    280\u001b[0m )\n",
      "File \u001b[1;32mc:\\Users\\Sadra\\miniconda3\\envs\\geosat_down\\lib\\site-packages\\eumdac\\token.py:141\u001b[0m, in \u001b[0;36mAccessToken.auth\u001b[1;34m(self)\u001b[0m\n\u001b[0;32m    139\u001b[0m \u001b[38;5;129m@property\u001b[39m\n\u001b[0;32m    140\u001b[0m \u001b[38;5;28;01mdef\u001b[39;00m \u001b[38;5;21mauth\u001b[39m(\u001b[38;5;28mself\u001b[39m) \u001b[38;5;241m-\u001b[39m\u001b[38;5;241m>\u001b[39m AuthBase:\n\u001b[1;32m--> 141\u001b[0m     \u001b[38;5;28;01mreturn\u001b[39;00m HTTPBearerAuth(\u001b[38;5;28;43mself\u001b[39;49m\u001b[38;5;241;43m.\u001b[39;49m\u001b[43maccess_token\u001b[49m)\n",
      "File \u001b[1;32mc:\\Users\\Sadra\\miniconda3\\envs\\geosat_down\\lib\\site-packages\\eumdac\\token.py:136\u001b[0m, in \u001b[0;36mAccessToken.access_token\u001b[1;34m(self)\u001b[0m\n\u001b[0;32m    134\u001b[0m expires_in \u001b[38;5;241m=\u001b[39m \u001b[38;5;28mself\u001b[39m\u001b[38;5;241m.\u001b[39m_expiration \u001b[38;5;241m-\u001b[39m time\u001b[38;5;241m.\u001b[39mtime()\n\u001b[0;32m    135\u001b[0m \u001b[38;5;28;01mif\u001b[39;00m \u001b[38;5;129;01mnot\u001b[39;00m \u001b[38;5;28mself\u001b[39m\u001b[38;5;241m.\u001b[39mcache \u001b[38;5;129;01mor\u001b[39;00m expires_in \u001b[38;5;241m<\u001b[39m \u001b[38;5;28mself\u001b[39m\u001b[38;5;241m.\u001b[39mrequest_margin:\n\u001b[1;32m--> 136\u001b[0m     \u001b[38;5;28;43mself\u001b[39;49m\u001b[38;5;241;43m.\u001b[39;49m\u001b[43m_update_token_data\u001b[49m\u001b[43m(\u001b[49m\u001b[43m)\u001b[49m\n\u001b[0;32m    137\u001b[0m \u001b[38;5;28;01mreturn\u001b[39;00m \u001b[38;5;28mself\u001b[39m\u001b[38;5;241m.\u001b[39m_access_token\n",
      "File \u001b[1;32mc:\\Users\\Sadra\\miniconda3\\envs\\geosat_down\\lib\\site-packages\\eumdac\\token.py:152\u001b[0m, in \u001b[0;36mAccessToken._update_token_data\u001b[1;34m(self)\u001b[0m\n\u001b[0;32m    145\u001b[0m now \u001b[38;5;241m=\u001b[39m time\u001b[38;5;241m.\u001b[39mtime()\n\u001b[0;32m    146\u001b[0m response \u001b[38;5;241m=\u001b[39m post(\n\u001b[0;32m    147\u001b[0m     \u001b[38;5;28mself\u001b[39m\u001b[38;5;241m.\u001b[39murls\u001b[38;5;241m.\u001b[39mget(\u001b[38;5;124m\"\u001b[39m\u001b[38;5;124mtoken\u001b[39m\u001b[38;5;124m\"\u001b[39m, \u001b[38;5;124m\"\u001b[39m\u001b[38;5;124mtoken\u001b[39m\u001b[38;5;124m\"\u001b[39m),\n\u001b[0;32m    148\u001b[0m     auth\u001b[38;5;241m=\u001b[39mauth,\n\u001b[0;32m    149\u001b[0m     data\u001b[38;5;241m=\u001b[39m{\u001b[38;5;124m\"\u001b[39m\u001b[38;5;124mgrant_type\u001b[39m\u001b[38;5;124m\"\u001b[39m: \u001b[38;5;124m\"\u001b[39m\u001b[38;5;124mclient_credentials\u001b[39m\u001b[38;5;124m\"\u001b[39m},\n\u001b[0;32m    150\u001b[0m     headers\u001b[38;5;241m=\u001b[39meumdac\u001b[38;5;241m.\u001b[39mcommon\u001b[38;5;241m.\u001b[39mheaders,\n\u001b[0;32m    151\u001b[0m )\n\u001b[1;32m--> 152\u001b[0m \u001b[43mresponse\u001b[49m\u001b[38;5;241;43m.\u001b[39;49m\u001b[43mraise_for_status\u001b[49m\u001b[43m(\u001b[49m\u001b[43m)\u001b[49m\n\u001b[0;32m    153\u001b[0m token_data \u001b[38;5;241m=\u001b[39m response\u001b[38;5;241m.\u001b[39mjson()\n\u001b[0;32m    154\u001b[0m \u001b[38;5;28mself\u001b[39m\u001b[38;5;241m.\u001b[39m_expiration \u001b[38;5;241m=\u001b[39m now \u001b[38;5;241m+\u001b[39m token_data[\u001b[38;5;124m\"\u001b[39m\u001b[38;5;124mexpires_in\u001b[39m\u001b[38;5;124m\"\u001b[39m]\n",
      "File \u001b[1;32mc:\\Users\\Sadra\\miniconda3\\envs\\geosat_down\\lib\\site-packages\\requests\\models.py:1021\u001b[0m, in \u001b[0;36mResponse.raise_for_status\u001b[1;34m(self)\u001b[0m\n\u001b[0;32m   1016\u001b[0m     http_error_msg \u001b[38;5;241m=\u001b[39m (\n\u001b[0;32m   1017\u001b[0m         \u001b[38;5;124mf\u001b[39m\u001b[38;5;124m\"\u001b[39m\u001b[38;5;132;01m{\u001b[39;00m\u001b[38;5;28mself\u001b[39m\u001b[38;5;241m.\u001b[39mstatus_code\u001b[38;5;132;01m}\u001b[39;00m\u001b[38;5;124m Server Error: \u001b[39m\u001b[38;5;132;01m{\u001b[39;00mreason\u001b[38;5;132;01m}\u001b[39;00m\u001b[38;5;124m for url: \u001b[39m\u001b[38;5;132;01m{\u001b[39;00m\u001b[38;5;28mself\u001b[39m\u001b[38;5;241m.\u001b[39murl\u001b[38;5;132;01m}\u001b[39;00m\u001b[38;5;124m\"\u001b[39m\n\u001b[0;32m   1018\u001b[0m     )\n\u001b[0;32m   1020\u001b[0m \u001b[38;5;28;01mif\u001b[39;00m http_error_msg:\n\u001b[1;32m-> 1021\u001b[0m     \u001b[38;5;28;01mraise\u001b[39;00m HTTPError(http_error_msg, response\u001b[38;5;241m=\u001b[39m\u001b[38;5;28mself\u001b[39m)\n",
      "\u001b[1;31mHTTPError\u001b[0m: 401 Client Error:  for url: https://api.eumetsat.int/token"
     ]
    }
   ],
   "source": [
    "seviri_pp_latest = seviri_pdc.search().first() # prime product_latest\n",
    "seviri_iop_latest = seviri_iodc.search().first() # indian ocean product_latest\n",
    "products = [seviri_pp_latest, seviri_iop_latest]"
   ]
  },
  {
   "cell_type": "markdown",
   "metadata": {},
   "source": [
    "3-Downloading **Products**\n",
    "\n",
    " Products can be downloaded by providing either their product ID, or a combination of their collection ID and the time of acquisition. We can download entire products, or specific file components (e.g. metadata only)."
   ]
  },
  {
   "cell_type": "code",
   "execution_count": null,
   "metadata": {},
   "outputs": [],
   "source": [
    "# Create the \"tmp\" directory if it doesn't exist\n",
    "base_dir = './tmp'\n",
    "os.makedirs(base_dir, exist_ok=True)\n",
    "\n",
    "for product in products:\n",
    "    try:\n",
    "        with product.open() as fsrc, open(os.path.join(base_dir, os.path.basename(fsrc.name)), mode='wb') as fdst:\n",
    "            shutil.copyfileobj(fsrc, fdst)\n",
    "            print(f'Download of product {product} finished.')\n",
    "    except eumdac.product.ProductError as error:\n",
    "        print(f\"Error related to the product '{product}' while trying to download it: '{error.msg}'\")\n",
    "    except requests.exceptions.ConnectionError as error:\n",
    "        print(f\"Error related to the connection: '{error.msg}'\")\n",
    "    except requests.exceptions.RequestException as error:\n",
    "        print(f\"Unexpected error: {error}\")\n",
    "    \n",
    "print('All downloads are finished.')"
   ]
  },
  {
   "cell_type": "markdown",
   "metadata": {},
   "source": [
    "Then we will extract archived file."
   ]
  },
  {
   "cell_type": "code",
   "execution_count": null,
   "metadata": {},
   "outputs": [],
   "source": [
    "extract_zip_files(base_dir)"
   ]
  }
 ],
 "metadata": {
  "kernelspec": {
   "display_name": "satpy",
   "language": "python",
   "name": "python3"
  },
  "language_info": {
   "codemirror_mode": {
    "name": "ipython",
    "version": 3
   },
   "file_extension": ".py",
   "mimetype": "text/x-python",
   "name": "python",
   "nbconvert_exporter": "python",
   "pygments_lexer": "ipython3",
   "version": "3.8.18"
  }
 },
 "nbformat": 4,
 "nbformat_minor": 2
}
