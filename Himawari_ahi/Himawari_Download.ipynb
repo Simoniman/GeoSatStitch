{
 "cells": [
  {
   "cell_type": "markdown",
   "metadata": {},
   "source": [
    "##### Installing Required Libraries : "
   ]
  },
  {
   "cell_type": "markdown",
   "metadata": {},
   "source": [
    "The library being installed is derived from the goes_api library with some modifications and improvements, making it more robust across different operating systems."
   ]
  },
  {
   "cell_type": "code",
   "execution_count": null,
   "metadata": {},
   "outputs": [],
   "source": [
    "# ! pip install git+https://github.com/Simoniman/himawari_api.git\n",
    "# ! pip install patoolib"
   ]
  },
  {
   "cell_type": "markdown",
   "metadata": {},
   "source": [
    "##### Importing Required Libraries"
   ]
  },
  {
   "cell_type": "code",
   "execution_count": null,
   "metadata": {},
   "outputs": [],
   "source": [
    "import subprocess\n",
    "import time\n",
    "import threading\n",
    "from himawari_utils import *\n"
   ]
  },
  {
   "cell_type": "markdown",
   "metadata": {},
   "source": [
    "##### Downloading latest files"
   ]
  },
  {
   "cell_type": "markdown",
   "metadata": {},
   "source": [
    "Each Himawari image is composed of 160 binary files, and these files are not instantly loaded into the AWS Bucket. Therefore, we need to run the main function several times within a short period to download all 160 files (or all 10 files for each channel). The issue arises when we run the function once in the notebook, as no new files will be downloaded in subsequent runs. However, this issue does not exist when running the provided Python module alongside this notebook with the same name. Therefore, it was decided to periodically run the `Himawari_Download.py` from the notebook (e.g., every 30 seconds) until all files are downloaded. Because this process takes about 4 to 5 minutes, the feature to run in the background was also added.\n",
    "\n",
    "We have made it possible to apply the minimal required settings in the below block. If the user wishes to apply more advanced settings, they should navigate to `Himawari_Download.py`.\n",
    "\n",
    "For the sake of making the code neater, the utility functions were separated into another file named `himawari_utils.py`."
   ]
  },
  {
   "cell_type": "code",
   "execution_count": null,
   "metadata": {},
   "outputs": [],
   "source": [
    "script_path = 'Himawari_Download.py' \n",
    "base_dir = \"./tmp/\"\n",
    "channels = [\"C12\"]\n",
    "gradual_unzip = True # False for skipping unzipping and 1 for unzipping\n",
    "counter_list = []"
   ]
  },
  {
   "cell_type": "markdown",
   "metadata": {},
   "source": [
    "Just run the below function to download everything"
   ]
  },
  {
   "cell_type": "code",
   "execution_count": null,
   "metadata": {},
   "outputs": [],
   "source": [
    "# run_script_and_check(script_path, base_dir=base_dir, channels=channels, gradual_unzip=False)"
   ]
  },
  {
   "cell_type": "markdown",
   "metadata": {},
   "source": [
    "If you want to do it in the background"
   ]
  },
  {
   "cell_type": "code",
   "execution_count": null,
   "metadata": {},
   "outputs": [],
   "source": [
    "# NOTE : in this case, the gradual_unzip argument must be True. \n",
    "# Create a threading Thread\n",
    "t = threading.Thread(target=run_script_and_check, args=(script_path, base_dir, channels, True, counter_list))\n",
    "\n",
    "# Start the thread\n",
    "t.start()\n",
    "\n",
    "# We should wait until first run of the main download function. using a wait function over a global list is much more efficient and reliable that waiting a specific amount of time using time.sleep function.\n",
    "wait_function(counter_list)"
   ]
  },
  {
   "cell_type": "code",
   "execution_count": null,
   "metadata": {},
   "outputs": [],
   "source": []
  }
 ],
 "metadata": {
  "kernelspec": {
   "display_name": "satpy",
   "language": "python",
   "name": "python3"
  },
  "language_info": {
   "codemirror_mode": {
    "name": "ipython",
    "version": 3
   },
   "file_extension": ".py",
   "mimetype": "text/x-python",
   "name": "python",
   "nbconvert_exporter": "python",
   "pygments_lexer": "ipython3",
   "version": "3.8.18"
  }
 },
 "nbformat": 4,
 "nbformat_minor": 2
}
