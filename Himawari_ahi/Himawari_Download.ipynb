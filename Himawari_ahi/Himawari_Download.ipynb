{
 "cells": [
  {
   "cell_type": "markdown",
   "metadata": {},
   "source": [
    "##### Installing Required Libraries : "
   ]
  },
  {
   "cell_type": "markdown",
   "metadata": {},
   "source": [
    "The library being installed is derived from the goes_api library with some modifications and improvements, making it more robust across different operating systems."
   ]
  },
  {
   "cell_type": "code",
   "execution_count": null,
   "metadata": {},
   "outputs": [],
   "source": [
    "# ! pip install git+https://github.com/Simoniman/himawari_api.git\n",
    "# ! pip install patoolib"
   ]
  },
  {
   "cell_type": "markdown",
   "metadata": {},
   "source": [
    "##### Importing Required Libraries"
   ]
  },
  {
   "cell_type": "code",
   "execution_count": null,
   "metadata": {},
   "outputs": [],
   "source": [
    "import os\n",
    "import datetime\n",
    "import himawari_api\n",
    "from himawari_api import download_latest_files"
   ]
  },
  {
   "cell_type": "markdown",
   "metadata": {},
   "source": [
    "for importing utils in the parent directory we add that to the python path as below"
   ]
  },
  {
   "cell_type": "code",
   "execution_count": null,
   "metadata": {},
   "outputs": [],
   "source": [
    "import sys\n",
    "\n",
    "# Get the parent directory of the current script\n",
    "parent_dir = os.path.dirname(os.path.abspath('Himawari_Download.ipynb'))\n",
    "parent_dir = os.path.abspath(os.path.join(parent_dir, \"..\"))  # Go up one level\n",
    "\n",
    "# Add the parent directory to the Python path\n",
    "sys.path.append(parent_dir)\n",
    "\n",
    "from utils import extract_zip_files"
   ]
  },
  {
   "cell_type": "markdown",
   "metadata": {},
   "source": [
    "##### Downloading latest files"
   ]
  },
  {
   "cell_type": "markdown",
   "metadata": {},
   "source": [
    "To download the latest files, we will use the download_latest_files function. First, we will set the input parameters."
   ]
  },
  {
   "cell_type": "code",
   "execution_count": null,
   "metadata": {},
   "outputs": [],
   "source": [
    "#### Define protocol and local directory\n",
    "base_dir = \"./tmp/\"\n",
    "protocol = \"s3\"\n",
    "\n",
    "#### Define satellite, product_level and product\n",
    "satellite = \"HIMAWARI-9\"\n",
    "product_level = \"L1B\"\n",
    "product = \"Rad\"\n",
    "\n",
    "#### Define sector and filtering options\n",
    "sector = \"F\"#Full Disc \n",
    "scene_abbr = None   # do not specify for Full Disc \n",
    "# channels = None     # select all channels\n",
    "channels = [\"C09\"]  # select channels subset\n",
    "filter_parameters = {}\n",
    "filter_parameters[\"channels\"] = channels\n",
    "# filter_parameters[\"scene_abbr\"] = scene_abbr\n",
    "\n",
    "#### Downloading options\n",
    "n_threads = 20  # n_parallel downloads\n",
    "force_download = False  # whether to overwrite existing data on disk"
   ]
  },
  {
   "cell_type": "markdown",
   "metadata": {},
   "source": [
    "base_dir directory have to be created in advance."
   ]
  },
  {
   "cell_type": "code",
   "execution_count": null,
   "metadata": {},
   "outputs": [],
   "source": [
    "# Create the base_dir if it doesn't already exist\n",
    "if not os.path.exists(base_dir):\n",
    "    os.makedirs(base_dir)\n",
    "    print(f\"Directory '{base_dir}' created successfully.\")\n",
    "else:\n",
    "    print(f\"Directory '{base_dir}' already exists.\")"
   ]
  },
  {
   "cell_type": "markdown",
   "metadata": {},
   "source": [
    "Finally we would run the main function to download the most up-to-date imagery."
   ]
  },
  {
   "cell_type": "code",
   "execution_count": null,
   "metadata": {},
   "outputs": [],
   "source": [
    "l_fpaths = download_latest_files(\n",
    "    base_dir,\n",
    "    protocol,\n",
    "    satellite,\n",
    "    product_level,\n",
    "    product,\n",
    "    sector,\n",
    "    filter_parameters,\n",
    "    N = 1, \n",
    "    check_consistency=True,\n",
    "    look_ahead_minutes=15, \n",
    "    n_threads=20,\n",
    "    force_download=False,\n",
    "    check_data_integrity=True,\n",
    "    progress_bar=True,\n",
    "    verbose=True,\n",
    "    fs_args={})"
   ]
  },
  {
   "cell_type": "markdown",
   "metadata": {},
   "source": [
    "Then we will extract archived files. "
   ]
  },
  {
   "cell_type": "code",
   "execution_count": null,
   "metadata": {},
   "outputs": [],
   "source": [
    "path = list(l_fpaths.values())[0][0]\n",
    "dir = os.path.dirname(path)\n",
    "extract_zip_files(dir)"
   ]
  },
  {
   "cell_type": "markdown",
   "metadata": {},
   "source": [
    "##### NOTE"
   ]
  },
  {
   "cell_type": "markdown",
   "metadata": {},
   "source": [
    "`TO_DO` (low priority): There is an issue with the notebook version of the code. Each Himawari image is composed of 160 binary files, and these files are not loaded instantly in the AWS Bucket. Therefore, we will need to run the main function several times during that small period to download all 160 files. The issue is that if we run the function once in the notebook, no new files will be downloaded for subsequent runs. This issue does not exist in the provided Python module alongside this notebook with the same name. "
   ]
  }
 ],
 "metadata": {
  "kernelspec": {
   "display_name": "satpy",
   "language": "python",
   "name": "python3"
  },
  "language_info": {
   "codemirror_mode": {
    "name": "ipython",
    "version": 3
   },
   "file_extension": ".py",
   "mimetype": "text/x-python",
   "name": "python",
   "nbconvert_exporter": "python",
   "pygments_lexer": "ipython3",
   "version": "3.8.18"
  }
 },
 "nbformat": 4,
 "nbformat_minor": 2
}
