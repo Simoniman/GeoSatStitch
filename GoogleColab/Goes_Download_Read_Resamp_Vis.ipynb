{
 "cells": [
  {
   "cell_type": "markdown",
   "metadata": {},
   "source": [
    "##### Installing Required Libraries : "
   ]
  },
  {
   "cell_type": "markdown",
   "metadata": {},
   "source": [
    "The library being installed is derived from the goes_api library with some modifications and improvements, making it more robust across different operating systems."
   ]
  },
  {
   "cell_type": "code",
   "execution_count": null,
   "metadata": {},
   "outputs": [],
   "source": [
    "! pip install git+https://github.com/Simoniman/goes_api.git\n",
    "# ! pip install patool\n",
    "# ! pip install satpy\n",
    "# ! pip install rasterio\n",
    "# ! pip install matplotlib\n",
    "# ! pip install cartopy \n",
    "! wget -N -O utils.py 'https://github.com/Simoniman/GeoSatStitch/raw/main/utils.py' "
   ]
  },
  {
   "cell_type": "markdown",
   "metadata": {},
   "source": [
    "##### Importing Required Libraries"
   ]
  },
  {
   "cell_type": "code",
   "execution_count": null,
   "metadata": {},
   "outputs": [],
   "source": [
    "import os\n",
    "import datetime\n",
    "from glob import glob\n",
    "import matplotlib.pyplot as plt\n",
    "import cartopy.crs as ccrs\n",
    "import goes_api\n",
    "from goes_api import download_latest_files\n",
    "from satpy import Scene\n",
    "from pyresample import create_area_def\n",
    "from utils import find_format, find_reader, geo_area_def"
   ]
  },
  {
   "cell_type": "markdown",
   "metadata": {},
   "source": [
    "##### Downloading latest files"
   ]
  },
  {
   "cell_type": "markdown",
   "metadata": {},
   "source": [
    "To download the latest files, we will use the download_latest_files function. First, we will set the input parameters."
   ]
  },
  {
   "cell_type": "code",
   "execution_count": null,
   "metadata": {},
   "outputs": [],
   "source": [
    "#### Define protocol and local directory\n",
    "base_dir = \"./tmp/\"\n",
    "protocol = \"s3\"\n",
    "fs_args = {}\n",
    "\n",
    "#### Define satellite, sensor, product_level and product\n",
    "satellite = \"18\" # 16 (Goes 16) ==> EAST  /// 18 (Goes 18) ==> WEST\n",
    "sensor = \"ABI\"\n",
    "product_level = \"L1B\"\n",
    "product = \"Rad\"\n",
    "\n",
    "#### Define sector and filtering options\n",
    "sector = \"F\"\n",
    "scene_abbr = None  # DO NOT SPECIFY FOR FULL DISC SECTOR\n",
    "scan_modes = None  # select all scan modes (M3, M4, M6)\n",
    "channels = None  # select all channels\n",
    "channels = [\"C06\"]  # select channels subset\n",
    "filter_parameters = {}\n",
    "filter_parameters[\"scan_modes\"] = scan_modes\n",
    "filter_parameters[\"channels\"] = channels\n",
    "filter_parameters[\"scene_abbr\"] = scene_abbr\n",
    "\n",
    "#### Downloading options\n",
    "n_threads = 20  # n_parallel downloads\n",
    "force_download = False  # whether to overwrite existing data on disk\n",
    "look_ahead_minutes = 60\n",
    "N = 1\n",
    "operational_checks = True"
   ]
  },
  {
   "cell_type": "markdown",
   "metadata": {},
   "source": [
    "base_dir directory have to be created in advance."
   ]
  },
  {
   "cell_type": "code",
   "execution_count": null,
   "metadata": {},
   "outputs": [],
   "source": [
    "# Create the base_dir if it doesn't already exist\n",
    "if not os.path.exists(base_dir):\n",
    "    os.makedirs(base_dir)\n",
    "    print(f\"Directory '{base_dir}' created successfully.\")\n",
    "else:\n",
    "    print(f\"Directory '{base_dir}' already exists.\")"
   ]
  },
  {
   "cell_type": "markdown",
   "metadata": {},
   "source": [
    "Finally we would run the main function to download the most up-to-date imagery."
   ]
  },
  {
   "cell_type": "code",
   "execution_count": null,
   "metadata": {},
   "outputs": [],
   "source": [
    "if type(satellite) == list:\n",
    "  for sat in satellite : \n",
    "    fpaths = download_latest_files(\n",
    "        N=N,\n",
    "        base_dir=base_dir,\n",
    "        protocol=protocol,\n",
    "        fs_args=fs_args,\n",
    "        satellite=sat,\n",
    "        sensor=sensor,\n",
    "        product_level=product_level,\n",
    "        product=product,\n",
    "        sector=sector,\n",
    "        filter_parameters=filter_parameters,\n",
    "        n_threads=n_threads,\n",
    "        force_download=force_download,\n",
    "        check_data_integrity=True,\n",
    "        progress_bar=True,\n",
    "        verbose=True,\n",
    "        look_ahead_minutes=look_ahead_minutes,\n",
    "    )\n",
    "\n",
    "else:\n",
    "    fpaths = download_latest_files(\n",
    "        N=N,\n",
    "        base_dir=base_dir,\n",
    "        protocol=protocol,\n",
    "        fs_args=fs_args,\n",
    "        satellite=sat,\n",
    "        sensor=sensor,\n",
    "        product_level=product_level,\n",
    "        product=product,\n",
    "        sector=sector,\n",
    "        filter_parameters=filter_parameters,\n",
    "        n_threads=n_threads,\n",
    "        force_download=force_download,\n",
    "        check_data_integrity=True,\n",
    "        progress_bar=True,\n",
    "        verbose=True,\n",
    "        look_ahead_minutes=look_ahead_minutes,\n",
    "    )"
   ]
  },
  {
   "cell_type": "code",
   "execution_count": null,
   "metadata": {},
   "outputs": [],
   "source": [
    "path = list(fpaths.values())[0][0]\n",
    "dir = os.path.dirname(path)"
   ]
  },
  {
   "cell_type": "markdown",
   "metadata": {},
   "source": [
    "##### Reading Data"
   ]
  },
  {
   "cell_type": "markdown",
   "metadata": {},
   "source": [
    "Satpy's main interface for working with data is the `Scene` class. We can provide the `Scene` with data files and load them with a \"reader\". "
   ]
  },
  {
   "cell_type": "markdown",
   "metadata": {},
   "source": [
    "There are many readers available in Satpy, but the three readers related to this project are as below :"
   ]
  },
  {
   "cell_type": "markdown",
   "metadata": {},
   "source": [
    "| Reader      | Description |\n",
    "|:-----------:|:-----------:|\n",
    "| `'abi_l1b'`              |  reads individual GOES ABI L1B NetCDF4 files. The files read by this reader are described in the [official PUG document](https://www.goes-r.gov/users/docs/PUG-L1b-vol3.pdf)|\n",
    "| `'seviri_l1b_native'`    |  reads and calibrates MSG-SEVIRI L1.5 image data in binary format. The format is explained in the [MSG Level 1.5 Native Format File Definition.](https://www-cdn.eumetsat.int/files/2020-04/pdf_fg15_msg-native-format-15.pdf)|\n",
    "|   `'ahi_hsd'`            |  reads Advanced Himawari Imager (AHI) Binary data (standard format data)       |"
   ]
  },
  {
   "cell_type": "code",
   "execution_count": null,
   "metadata": {},
   "outputs": [],
   "source": [
    "base_dir = dir\n",
    "\n",
    "filenames_format = find_format(base_dir)\n",
    "\n",
    "reader=find_reader(filenames_format)\n",
    "filenames = glob( base_dir + f'/*.{filenames_format}')\n",
    "\n",
    "scn = Scene(reader=reader, filenames=filenames)"
   ]
  },
  {
   "cell_type": "markdown",
   "metadata": {},
   "source": [
    "We've now created a `Scene` object. Under the hood Satpy has determined what we can access. We haven't actually loaded any data so our dict-like `Scene` object is empty. In other words we first load/read metadata by creating `Scene` object. "
   ]
  },
  {
   "cell_type": "code",
   "execution_count": null,
   "metadata": {},
   "outputs": [],
   "source": [
    "scn.available_dataset_names()"
   ]
  },
  {
   "cell_type": "markdown",
   "metadata": {},
   "source": [
    "Then we will read/load all or subset of available dataset. "
   ]
  },
  {
   "cell_type": "code",
   "execution_count": null,
   "metadata": {},
   "outputs": [],
   "source": [
    "channels = ['IR_108'] \n",
    "scn.load(channels)"
   ]
  },
  {
   "cell_type": "markdown",
   "metadata": {},
   "source": [
    "Now we loaded some dataset and consequently are able to access those."
   ]
  },
  {
   "cell_type": "code",
   "execution_count": null,
   "metadata": {},
   "outputs": [],
   "source": [
    "scn['IR_108']"
   ]
  },
  {
   "cell_type": "markdown",
   "metadata": {},
   "source": [
    "##### Resampling Data"
   ]
  },
  {
   "cell_type": "markdown",
   "metadata": {},
   "source": [
    "One of the more complex topics when it comes to working with earth-observing satellite data is geographic projections and resampling data to these different projections."
   ]
  },
  {
   "cell_type": "markdown",
   "metadata": {},
   "source": [
    "The `'area'` attribute of our Satpy data is a special `AreaDefinition` and it defines the geographic area that our data covers. Under `Projection` we see a python dictionary of projection parameters to define that flat plane representation of the Earth. Our ABI data is on a `'geos'` or Geostationary Satellite View coordinate system where position is measured in meters on the the X and Y axes. You can learn more about that on the PROJ site [here](https://proj.org/operations/projections/geos.html).\n",
    "\n",
    "In the current project we need to have the data in `'web mercator'` projection system(EPSG:3857).\n",
    "So we need to resample the data to this system.  "
   ]
  },
  {
   "cell_type": "markdown",
   "metadata": {},
   "source": [
    "We can do this using Satpy's `Scene.resample` method which provides multiple algorithms for resampling data.\n",
    "\n",
    "- `'native'` resampler can be very useful when you need to combine bands from the same instrument that have different resolutions.\n",
    "\n",
    "- Other resamplers (`nearest` and so on) are used to change the projection of the dataset. for this case, we should determine the geographic area of interest using a `AreaDefenition` object. this object is created more easily using Pyresample's `create_area_def` utility function."
   ]
  },
  {
   "cell_type": "markdown",
   "metadata": {},
   "source": [
    "Pysat utilizes Pyresample, a Python package designed for resampling geospatial image data, for the purpose of resampling operations."
   ]
  },
  {
   "cell_type": "markdown",
   "metadata": {},
   "source": [
    "Next we will create `AreaDefenition` object for Goes_East and Goes_West satellites using create_area_def utility function. "
   ]
  },
  {
   "cell_type": "code",
   "execution_count": null,
   "metadata": {},
   "outputs": [],
   "source": [
    "geo_area_defenition = geo_area_def(scene=scn)"
   ]
  },
  {
   "cell_type": "markdown",
   "metadata": {},
   "source": [
    "Then we will resample the data using created `AreaDefenition` object. "
   ]
  },
  {
   "cell_type": "code",
   "execution_count": null,
   "metadata": {},
   "outputs": [],
   "source": [
    "scn_resamp = scn.resample(destination=geo_area_defenition)"
   ]
  },
  {
   "cell_type": "markdown",
   "metadata": {},
   "source": [
    "##### Writing Data"
   ]
  },
  {
   "cell_type": "markdown",
   "metadata": {},
   "source": [
    "Satpy makes it possible to save datasets in multiple formats, with `writers` designed to save in a given format.The default `writer` is geotiff writer."
   ]
  },
  {
   "cell_type": "code",
   "execution_count": null,
   "metadata": {},
   "outputs": [],
   "source": [
    "scn_resamp.save_datasets(\n",
    "    writer=\"geotiff\",\n",
    "    filename=\"{platform_name}_{name}_{start_time:%Y%m%d_%H%M%S}.tif\",\n",
    "    base_dir=base_dir)"
   ]
  },
  {
   "cell_type": "markdown",
   "metadata": {},
   "source": [
    "##### Visualizing Data"
   ]
  },
  {
   "cell_type": "markdown",
   "metadata": {},
   "source": [
    "Although data can be visualized in specialized GIS software after exporting the data in well-known geospatial raster formats like GeoTIFF, being able to visualize data directly in Python can be really beneficial in some cases."
   ]
  },
  {
   "cell_type": "code",
   "execution_count": null,
   "metadata": {},
   "outputs": [],
   "source": [
    "channel = 'C06'\n",
    "crs = scn[channel].attrs['area'].to_cartopy_crs()\n",
    "plt.figure(figsize=(16,10))\n",
    "ax = plt.axes(projection=ccrs.PlateCarree())\n",
    "\n",
    "cmap = 'Greys'  # Example colormap without transparency\n",
    "\n",
    "dataset = scn[channel]\n",
    "dataset.plot.imshow(transform=crs, cmap=cmap)\n",
    "ax.coastlines()\n",
    "# ax.gridlines()\n",
    "ax.gridlines(draw_labels=True, linewidth=1, color='gray', alpha=0.5, linestyle='--')\n",
    "plt.title(f\"platform_name : {scn[channel].attrs['platform_name']}  \\n channel : {scn[channel].attrs['name']}  \\n start_time : {scn[channel].attrs['start_time']}  \\n end_time : {scn[channel].attrs['end_time']} \")"
   ]
  }
 ],
 "metadata": {
  "kernelspec": {
   "display_name": "geosat_down",
   "language": "python",
   "name": "python3"
  },
  "language_info": {
   "name": "python",
   "version": "3.8.18"
  }
 },
 "nbformat": 4,
 "nbformat_minor": 2
}
