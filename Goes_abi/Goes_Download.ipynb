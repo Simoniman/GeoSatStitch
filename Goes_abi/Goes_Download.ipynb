{
 "cells": [
  {
   "cell_type": "markdown",
   "metadata": {},
   "source": [
    "##### Installing Required Libraries : "
   ]
  },
  {
   "cell_type": "markdown",
   "metadata": {},
   "source": [
    "The library being installed is derived from the goes_api library with some modifications and improvements, making it more robust across different operating systems."
   ]
  },
  {
   "cell_type": "code",
   "execution_count": 23,
   "metadata": {},
   "outputs": [],
   "source": [
    "# ! pip install git+https://github.com/Simoniman/goes_api.git"
   ]
  },
  {
   "cell_type": "markdown",
   "metadata": {},
   "source": [
    "##### Importing Required Libraries"
   ]
  },
  {
   "cell_type": "code",
   "execution_count": 24,
   "metadata": {},
   "outputs": [],
   "source": [
    "import os\n",
    "import datetime\n",
    "import goes_api\n",
    "from goes_api import download_latest_files"
   ]
  },
  {
   "cell_type": "markdown",
   "metadata": {},
   "source": [
    "##### Downloading latest files"
   ]
  },
  {
   "cell_type": "markdown",
   "metadata": {},
   "source": [
    "To download the latest files, we will use the download_latest_files function. First, we will set the input parameters."
   ]
  },
  {
   "cell_type": "code",
   "execution_count": 25,
   "metadata": {},
   "outputs": [],
   "source": [
    "#### Define protocol and local directory\n",
    "base_dir = \"./tmp/\"\n",
    "protocol = \"s3\"\n",
    "fs_args = {}\n",
    "\n",
    "#### Define satellite, sensor, product_level and product\n",
    "satellite = [\"16\",\"18\"] # 16 (Goes 16) ==> EAST  /// 18 (Goes 18) ==> WEST\n",
    "sensor = \"ABI\"\n",
    "product_level = \"L1B\"\n",
    "product = \"Rad\"\n",
    "\n",
    "#### Define sector and filtering options\n",
    "sector = \"F\"\n",
    "scene_abbr = None  # DO NOT SPECIFY FOR FULL DISC SECTOR\n",
    "scan_modes = None  # select all scan modes (M3, M4, M6)\n",
    "channels = None  # select all channels\n",
    "channels = [\"C07\"]  # select channels subset\n",
    "filter_parameters = {}\n",
    "filter_parameters[\"scan_modes\"] = scan_modes\n",
    "filter_parameters[\"channels\"] = channels\n",
    "filter_parameters[\"scene_abbr\"] = scene_abbr\n",
    "\n",
    "#### Downloading options\n",
    "n_threads = 20  # n_parallel downloads\n",
    "force_download = False  # whether to overwrite existing data on disk\n",
    "look_ahead_minutes = 60\n",
    "N = 1\n",
    "operational_checks = True"
   ]
  },
  {
   "cell_type": "markdown",
   "metadata": {},
   "source": [
    "base_dir directory have to be created in advance."
   ]
  },
  {
   "cell_type": "code",
   "execution_count": 26,
   "metadata": {},
   "outputs": [
    {
     "name": "stdout",
     "output_type": "stream",
     "text": [
      "Directory './tmp/' already exists.\n"
     ]
    }
   ],
   "source": [
    "# Create the base_dir if it doesn't already exist\n",
    "if not os.path.exists(base_dir):\n",
    "    os.makedirs(base_dir)\n",
    "    print(f\"Directory '{base_dir}' created successfully.\")\n",
    "else:\n",
    "    print(f\"Directory '{base_dir}' already exists.\")"
   ]
  },
  {
   "cell_type": "markdown",
   "metadata": {},
   "source": [
    "Finally we would run the main function to download the most up-to-date imagery."
   ]
  },
  {
   "cell_type": "code",
   "execution_count": 27,
   "metadata": {},
   "outputs": [
    {
     "name": "stdout",
     "output_type": "stream",
     "text": [
      "-------------------------------------------------------------------- \n",
      "Starting downloading Rad data between 2024-03-07 07:00:00 and 2024-03-07 07:00:00.\n",
      " - Downloading 1 files from 2024-03-07 07:00:00 to 2024-03-07 07:00:00\n"
     ]
    },
    {
     "name": "stderr",
     "output_type": "stream",
     "text": [
      "100%|██████████| 1/1 [04:14<00:00, 254.78s/it]\n"
     ]
    },
    {
     "name": "stdout",
     "output_type": "stream",
     "text": [
      "--> 1 files have been downloaded in 255 seconds !\n",
      "-------------------------------------------------------------------- \n",
      "Checking data integrity:\n",
      " - 0 corrupted files were identified and removed.\n",
      "--------------------------------------------------------------------\n",
      "Elapsed time: 0:04:15.021630 .\n",
      "-------------------------------------------------------------------- \n",
      "Starting downloading Rad data between 2024-03-07 07:00:00 and 2024-03-07 07:00:00.\n",
      "--> 0 files have been downloaded in 0 seconds !\n",
      "-------------------------------------------------------------------- \n",
      "Checking data integrity:\n",
      " - 0 corrupted files were identified and removed.\n",
      "--------------------------------------------------------------------\n",
      "Elapsed time: 0:00:00.249536 .\n"
     ]
    }
   ],
   "source": [
    "if type(satellite) == list:\n",
    "  for sat in satellite : \n",
    "    fpaths = download_latest_files(\n",
    "        N=N,\n",
    "        base_dir=base_dir,\n",
    "        protocol=protocol,\n",
    "        fs_args=fs_args,\n",
    "        satellite=sat,\n",
    "        sensor=sensor,\n",
    "        product_level=product_level,\n",
    "        product=product,\n",
    "        sector=sector,\n",
    "        filter_parameters=filter_parameters,\n",
    "        n_threads=n_threads,\n",
    "        force_download=force_download,\n",
    "        check_data_integrity=True,\n",
    "        progress_bar=True,\n",
    "        verbose=True,\n",
    "        look_ahead_minutes=look_ahead_minutes,\n",
    "    )\n",
    "\n",
    "else:\n",
    "    fpaths = download_latest_files(\n",
    "        N=N,\n",
    "        base_dir=base_dir,\n",
    "        protocol=protocol,\n",
    "        fs_args=fs_args,\n",
    "        satellite=sat,\n",
    "        sensor=sensor,\n",
    "        product_level=product_level,\n",
    "        product=product,\n",
    "        sector=sector,\n",
    "        filter_parameters=filter_parameters,\n",
    "        n_threads=n_threads,\n",
    "        force_download=force_download,\n",
    "        check_data_integrity=True,\n",
    "        progress_bar=True,\n",
    "        verbose=True,\n",
    "        look_ahead_minutes=look_ahead_minutes,\n",
    "    )"
   ]
  },
  {
   "cell_type": "markdown",
   "metadata": {},
   "source": [
    "`TO_DO` : Sometimes, an error may arise due to the end time being in the future. This issue could be investigated in more detail."
   ]
  }
 ],
 "metadata": {
  "kernelspec": {
   "display_name": "satpy",
   "language": "python",
   "name": "python3"
  },
  "language_info": {
   "codemirror_mode": {
    "name": "ipython",
    "version": 3
   },
   "file_extension": ".py",
   "mimetype": "text/x-python",
   "name": "python",
   "nbconvert_exporter": "python",
   "pygments_lexer": "ipython3",
   "version": "3.8.18"
  }
 },
 "nbformat": 4,
 "nbformat_minor": 2
}
